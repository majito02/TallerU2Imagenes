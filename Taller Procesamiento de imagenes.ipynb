{
 "cells": [
  {
   "cell_type": "code",
   "execution_count": null,
   "id": "b5b5b56c",
   "metadata": {},
   "outputs": [],
   "source": [
    "#Importacion de librerias\n",
    "#Libreria OpenCV\n",
    "import cv2\n",
    "#Libreria Numpy\n",
    "import numpy as np\n",
    "#Libreria de opciones de sistema\n",
    "import os\n",
    "#Dar importancia de mensajes\n",
    "os.environ['TF_CPP_MIN_LOG_LEVEL'] = '3' \n",
    "import shutil\n",
    "import glob\n",
    "#Importar pandas\n",
    "import pandas as pd\n",
    "#Importar librerias graficas\n",
    "import matplotlib.pyplot as plt\n",
    "from  PIL  import Image\n",
    "#Importar librerias de analisis\n",
    "import seaborn as sn\n",
    "from keras.preprocessing.image import ImageDataGenerator #array_to_img, img_to_array, load_img\n",
    "#from rembg import remove\n",
    "from sklearn.preprocessing import MinMaxScaler\n",
    "import h5py\n",
    "#Importar libreria de tiempo\n",
    "from time import sleep"
   ]
  },
  {
   "cell_type": "code",
   "execution_count": 4,
   "id": "f9508926-4fcc-48a6-af9d-6b0b66f2b7f5",
   "metadata": {},
   "outputs": [
    {
     "name": "stdout",
     "output_type": "stream",
     "text": [
      "['totally_green', 'yellow_with_brown_spots', 'yellow_with_green_tips']\n"
     ]
    }
   ],
   "source": [
    "#Obtener ruta de carpeta con ima\n",
    "images_path =os.path.abspath('.')+\"/Banana_Ripeness_Dataset_Augmented-main\"\n",
    "class_names = os.listdir(images_path)\n",
    "class_names.sort()\n",
    "print(class_names)"
   ]
  },
  {
   "cell_type": "code",
   "execution_count": null,
   "id": "013c0f5f-59ee-45ff-98ee-173afd8bba45",
   "metadata": {},
   "outputs": [],
   "source": []
  }
 ],
 "metadata": {
  "kernelspec": {
   "display_name": "Python 3 (ipykernel)",
   "language": "python",
   "name": "python3"
  },
  "language_info": {
   "codemirror_mode": {
    "name": "ipython",
    "version": 3
   },
   "file_extension": ".py",
   "mimetype": "text/x-python",
   "name": "python",
   "nbconvert_exporter": "python",
   "pygments_lexer": "ipython3",
   "version": "3.8.10"
  }
 },
 "nbformat": 4,
 "nbformat_minor": 5
}
